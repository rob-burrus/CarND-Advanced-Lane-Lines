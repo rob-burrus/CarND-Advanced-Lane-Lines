{
 "cells": [
  {
   "cell_type": "code",
   "execution_count": 25,
   "metadata": {
    "collapsed": true,
    "deletable": true,
    "editable": true
   },
   "outputs": [],
   "source": [
    "import cv2\n",
    "from moviepy.editor import VideoFileClip"
   ]
  },
  {
   "cell_type": "code",
   "execution_count": 26,
   "metadata": {
    "collapsed": true,
    "deletable": true,
    "editable": true
   },
   "outputs": [],
   "source": [
    "class Image_Generator:\n",
    "    \"\"\"\n",
    "    Saves each frame of a video to local directory\n",
    "    \"\"\"\n",
    "    def __init__(self):\n",
    "        \n",
    "        self.count = 0\n",
    "        \n",
    "    def save_img(self, img):\n",
    "        \"\"\"\n",
    "        Saves video images to local folder\n",
    "        \"\"\"\n",
    "    \n",
    "        write_name = './project_video_images/{}_img{}.jpg'.format(video, self.count)\n",
    "        cv2.imwrite(write_name, cv2.cvtColor(img, cv2.COLOR_BGR2RGB)) \n",
    "        self.count += 1\n",
    "        return img\n",
    "    "
   ]
  },
  {
   "cell_type": "code",
   "execution_count": 27,
   "metadata": {
    "collapsed": true,
    "deletable": true,
    "editable": true
   },
   "outputs": [],
   "source": [
    "\n",
    "def generate_images_from_video(video):\n",
    "    clip = VideoFileClip('./project_videos/{}.mp4'.format(video))\n",
    "    generator = Image_Generator()\n",
    "    video_clip = clip.fl_image(generator.save_img)\n",
    "    video_clip.write_videofile('./project_video_images/{}.mp4'.format(video), audio=False)\n"
   ]
  },
  {
   "cell_type": "code",
   "execution_count": 28,
   "metadata": {
    "collapsed": false,
    "deletable": true,
    "editable": true
   },
   "outputs": [
    {
     "name": "stdout",
     "output_type": "stream",
     "text": [
      "[MoviePy] >>>> Building video ./project_video_images/project_video.mp4\n",
      "[MoviePy] Writing video ./project_video_images/project_video.mp4\n"
     ]
    },
    {
     "name": "stderr",
     "output_type": "stream",
     "text": [
      "100%|█████████▉| 1260/1261 [00:58<00:00, 21.38it/s]\n"
     ]
    },
    {
     "name": "stdout",
     "output_type": "stream",
     "text": [
      "[MoviePy] Done.\n",
      "[MoviePy] >>>> Video ready: ./project_video_images/project_video.mp4 \n",
      "\n"
     ]
    }
   ],
   "source": [
    "\n",
    "video = 'project_video'\n",
    "#video = 'challenge_video'\n",
    "#video = 'harder_challenge_video'\n",
    "generate_images_from_video(video)"
   ]
  },
  {
   "cell_type": "code",
   "execution_count": null,
   "metadata": {
    "collapsed": true,
    "deletable": true,
    "editable": true
   },
   "outputs": [],
   "source": []
  }
 ],
 "metadata": {
  "kernelspec": {
   "display_name": "Python 3",
   "language": "python",
   "name": "python3"
  },
  "language_info": {
   "codemirror_mode": {
    "name": "ipython",
    "version": 3
   },
   "file_extension": ".py",
   "mimetype": "text/x-python",
   "name": "python",
   "nbconvert_exporter": "python",
   "pygments_lexer": "ipython3",
   "version": "3.5.2"
  },
  "widgets": {
   "state": {},
   "version": "1.1.2"
  }
 },
 "nbformat": 4,
 "nbformat_minor": 2
}
